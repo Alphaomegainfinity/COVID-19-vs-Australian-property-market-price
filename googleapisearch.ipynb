{
 "cells": [
  {
   "cell_type": "code",
   "execution_count": 1,
   "metadata": {},
   "outputs": [],
   "source": [
    "import requests\n",
    "from api_keys import api_key"
   ]
  },
  {
   "cell_type": "code",
   "execution_count": 2,
   "metadata": {},
   "outputs": [],
   "source": [
    "# Custom search engine \n",
    "search_engine_id = \"706c5645e098f40a8\""
   ]
  },
  {
   "cell_type": "code",
   "execution_count": 3,
   "metadata": {},
   "outputs": [],
   "source": [
    "# the search query you want\n",
    "query = \"housing prices australia covid 2021\"\n",
    "# using the first page\n",
    "page = 1\n",
    "# constructing the URL\n",
    "# doc: https://developers.google.com/custom-search/v1/using_rest\n",
    "# calculate start\n",
    "start = (page - 1) * 10 + 1\n",
    "url = f\"https://www.googleapis.com/customsearch/v1?key={api_key}&cx={search_engine_id}&q={query}&start={start}\""
   ]
  },
  {
   "cell_type": "code",
   "execution_count": 4,
   "metadata": {},
   "outputs": [],
   "source": [
    "# Make the API request\n",
    "\n",
    "data = requests.get(url).json()"
   ]
  },
  {
   "cell_type": "code",
   "execution_count": 5,
   "metadata": {},
   "outputs": [
    {
     "name": "stdout",
     "output_type": "stream",
     "text": [
      "========== Result #1 ==========\n",
      "Title: COVID-19 and Housing Prices: Australian Evidence with Daily ...\n",
      "Description: Using daily hedonic housing price index for five Australian capital cities, ... on commercial real estate price in the U.S.; Narayan et al., 2021 analyze ...\n",
      "Long description: Using daily hedonic housing price index for five Australian capital cities, we document a negative relationship between prior COVID-19 cases and daily housing returns. Specifically, the daily housing return drops by 0.35 basis points or 1.26 percentage ...\n",
      "URL: https://www.ncbi.nlm.nih.gov/pmc/articles/PMC8597044/ \n",
      "\n",
      "========== Result #2 ==========\n",
      "Title: House of cards: Australia's main response to the Covid recession ...\n",
      "Description: Jun 17, 2021 ... Death, taxes and rising house prices. The latest residential property price data shows that after a blip in the June quarter of last year, the ...\n",
      "Long description: Ever since the Reserve Bank began its run of cutting rates at the end of 2011, the boom in prices has been about houses, not apartments\n",
      "URL: https://www.theguardian.com/business/grogonomics/2021/jun/17/house-of-cards-australias-main-response-to-the-covid-recession-was-to-keep-home-prices-booming \n",
      "\n",
      "========== Result #3 ==========\n",
      "Title: COVID provided a real-life experiment on house price theory and ...\n",
      "Description: Sep 27, 2021 ... House prices have nearly continuously increased during the ... In March last year, Australia's international border was slammed shut.\n",
      "Long description: Closing the international borders was the sort of experiment economists had only ever carried out with a spreadsheet, never expecting it to actually happen. The results surprised a few, and have many questioning whether the right lessons are being learned.\n",
      "URL: https://www.abc.net.au/news/2021-09-28/housing-affordability-border-closure-interest-rates-supply/100494954 \n",
      "\n",
      "========== Result #4 ==========\n",
      "Title: Forget your post-Covid property hopes: crazy house prices are the ...\n",
      "Description: Oct 5, 2021 ... When $750000 is Australia's average home loan, you know that not only have house prices soared, but people are also taking on massive debt.\n",
      "Long description: When $750,000 is Australia’s average home loan, you know that not only have house prices soared, but people are also taking on massive debt\n",
      "URL: https://www.theguardian.com/business/grogonomics/2021/oct/05/forget-your-post-covid-property-hopes-crazy-house-prices-are-the-only-sure-thing \n",
      "\n",
      "========== Result #5 ==========\n",
      "Title: House prices return to record highs as COVID rally continues into ...\n",
      "Description: Jan 31, 2021 ... House prices return to record highs as COVID rally continues into 2021 ... A 0.9 per cent rise in house prices last month has taken Australian ...\n",
      "Long description: Australian house prices hit record highs, surpassing their 2017 peak despite the COVID-19 pandemic, on the back of super low interest rates and government stimulus.\n",
      "URL: https://www.abc.net.au/news/2021-02-01/home-prices-return-to-record-highs-as-covid-rally-continues/13108044 \n",
      "\n",
      "========== Result #6 ==========\n",
      "Title: COVID-19 and Housing Prices: Australian Evidence with Daily ...\n",
      "Description: Document a negative relationship between prior COVID-19 cases and daily housing returns in Australia housing market. •. Daily housing return drop by 0.35 basis ...\n",
      "Long description: Using daily hedonic housing price index for five Australian capital cities, we document a negative relationship between prior COVID-19 cases and daily…\n",
      "URL: https://www.sciencedirect.com/science/article/abs/pii/S1544612321000416 \n",
      "\n",
      "========== Result #7 ==========\n",
      "Title: House prices in Arizona are rising and that could be bad news for ...\n",
      "Description: Dec 18, 2021 ... It's happening in markets across the globe, including Australia. Hundreds of viewings, priced out within days. A young couple stand next to each ...\n",
      "Long description: House prices in the southern desert city of Phoenix, Arizona, have jumped an unprecedented 35 per cent in the year to June, forcing many out of the market entirely. It's a familiar story, but what happens next in the US could have a trickle-down effect on the average Australian household.\n",
      "URL: https://www.abc.net.au/news/2021-12-19/house-prices-arizona-inflation-what-it-means-for-australia/100689184 \n",
      "\n",
      "========== Result #8 ==========\n",
      "Title: How NSW, Victoria Covid lockdowns will affect Australia's property ...\n",
      "Description: Aug 25, 2021 ... The impact of Delta and lockdown on Aussie house prices ... Australian property price growth to decelerate over the remainder of 2021 and ...\n",
      "Long description: With more than half the nation likely to remain in lockdown for the foreseeable future, there is a big question mark over whether Australia’s record-breaking property price boom can be sustained.\n",
      "URL: https://www.news.com.au/finance/economy/interest-rates/the-impact-of-delta-and-lockdown-on-aussie-house-prices/news-story/648c938242fe4a941fc2b1143cd609fd \n",
      "\n",
      "========== Result #9 ==========\n",
      "Title: One crucial factor — the Omicron COVID-19 strain — will dictate ...\n",
      "Description: Jan 4, 2022 ... In 2021, national home prices rose 22.1 per cent, marking the ... Record low interest rates have driven Australian housing prices up 22 per ...\n",
      "Long description: The pandemic has caused a lot of heartache and distress, and it now appears to be creating more problems for first home buyers. \n",
      "URL: https://www.abc.net.au/news/2022-01-05/omicron-covid-variant-to-dictate-property-prices-2022-2023-/100739018 \n",
      "\n",
      "========== Result #10 ==========\n",
      "Title: Impact of COVID on Australia's Residential Property Market\n",
      "Description: Drivers of house price growth in Australia. KPMG has published several ... Since the beginning of 2021 a number of Australia's capital cities have seen.\n",
      "Long description: N/A\n",
      "URL: https://assets.kpmg/content/dam/kpmg/au/pdf/2021/covid-impact-australia-residential-property-market.pdf \n",
      "\n"
     ]
    }
   ],
   "source": [
    "# get the result items\n",
    "search_items = data.get(\"items\")\n",
    "# iterate over 10 results found\n",
    "for i, search_item in enumerate(search_items, start=1):\n",
    "    try:\n",
    "        long_description = search_item[\"pagemap\"][\"metatags\"][0][\"og:description\"]\n",
    "    except KeyError:\n",
    "        long_description = \"N/A\"\n",
    "    # get the page title\n",
    "    title = search_item.get(\"title\")\n",
    "    # page snippet\n",
    "    snippet = search_item.get(\"snippet\")\n",
    "    # alternatively, you can get the HTML snippet (bolded keywords)\n",
    "    html_snippet = search_item.get(\"htmlSnippet\")\n",
    "    # extract the page url\n",
    "    link = search_item.get(\"link\")\n",
    "    # print the results\n",
    "    print(\"=\"*10, f\"Result #{i+start-1}\", \"=\"*10)\n",
    "    print(\"Title:\", title)\n",
    "    print(\"Description:\", snippet)\n",
    "    print(\"Long description:\", long_description)\n",
    "    print(\"URL:\", link, \"\\n\")"
   ]
  }
 ],
 "metadata": {
  "kernelspec": {
   "display_name": "Python 3.9.12 ('base')",
   "language": "python",
   "name": "python3"
  },
  "language_info": {
   "codemirror_mode": {
    "name": "ipython",
    "version": 3
   },
   "file_extension": ".py",
   "mimetype": "text/x-python",
   "name": "python",
   "nbconvert_exporter": "python",
   "pygments_lexer": "ipython3",
   "version": "3.9.12"
  },
  "orig_nbformat": 4,
  "vscode": {
   "interpreter": {
    "hash": "9caa730cadaf79f02e6c0e023f9384e0cf856c4bf4ab42d1a9952074a22e8fbb"
   }
  }
 },
 "nbformat": 4,
 "nbformat_minor": 2
}
